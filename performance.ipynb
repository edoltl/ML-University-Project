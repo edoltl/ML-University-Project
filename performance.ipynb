{
  "nbformat": 4,
  "nbformat_minor": 0,
  "metadata": {
    "colab": {
      "provenance": []
    },
    "kernelspec": {
      "name": "python3",
      "display_name": "Python 3"
    },
    "language_info": {
      "name": "python"
    }
  },
  "cells": [
    {
      "cell_type": "markdown",
      "source": [
        "# Valutazione dei modelli\n",
        "\n",
        "In questo laboratorio vedremo diverse tecniche per valutare un modello e come confrontare diversi modelli di ML per scegliere il migliore.\n",
        "\n",
        "Useremo un dataset sul churn recuperato da Kaggle"
      ],
      "metadata": {
        "id": "tEYqjwwMFiZ7"
      }
    },
    {
      "cell_type": "code",
      "source": [
        "import pandas as pd\n",
        "import numpy as np\n",
        "import scipy.stats as st"
      ],
      "metadata": {
        "id": "TUZzFvW1rH_S"
      },
      "execution_count": 114,
      "outputs": []
    },
    {
      "cell_type": "code",
      "execution_count": null,
      "metadata": {
        "id": "UZf7nMVZFdKg"
      },
      "outputs": [],
      "source": [
        "# Carica il dataset dal file CSV\n",
        "df = pd.read_csv(\"https://raw.githubusercontent.com/albayraktaroglu/Datasets/master/churn.csv\")\n",
        "\n",
        "# Visualizza le prime righe del dataset\n",
        "df.head()"
      ]
    },
    {
      "cell_type": "markdown",
      "source": [
        "Eliminiamo le prime quattro colonne"
      ],
      "metadata": {
        "id": "cDUmM-5EHBgX"
      }
    },
    {
      "cell_type": "code",
      "source": [
        "df.drop([\"Phone\", \"State\", \"Account Length\",\t\"Area Code\"], axis=1, inplace=True)"
      ],
      "metadata": {
        "id": "_jZXEmDyG2_p"
      },
      "execution_count": 116,
      "outputs": []
    },
    {
      "cell_type": "code",
      "source": [
        "df.head()"
      ],
      "metadata": {
        "id": "I3LCj3KoHvwJ"
      },
      "execution_count": null,
      "outputs": []
    },
    {
      "cell_type": "code",
      "source": [
        "df.dtypes"
      ],
      "metadata": {
        "id": "89WwKYpJHyTR"
      },
      "execution_count": null,
      "outputs": []
    },
    {
      "cell_type": "markdown",
      "source": [
        "Applichiamo il label encoding per convertire le colonne categoriche in numeriche, in quanto è necessario per allenare un modello SVM"
      ],
      "metadata": {
        "id": "BUZ0sY6gJLKA"
      }
    },
    {
      "cell_type": "code",
      "source": [
        "from sklearn.preprocessing import LabelEncoder\n",
        "\n",
        "df[\"Int'l Plan\"] = df[\"Int'l Plan\"].astype(\"category\")\n",
        "df[\"VMail Plan\"] = df[\"VMail Plan\"].astype(\"category\")\n",
        "df[\"Churn?\"] = df[\"Churn?\"].astype(\"category\")\n",
        "\n",
        "# Applica il LabelEncoder alle colonne categoriche\n",
        "for col in [\"Int'l Plan\", \"VMail Plan\", \"Churn?\"]:\n",
        "    le = LabelEncoder()\n",
        "    df[col] = le.fit_transform(df[col])\n",
        "\n",
        "# Stampa il dataset trasformato\n",
        "print(df.head())"
      ],
      "metadata": {
        "id": "ZfrVtYgHHNM-"
      },
      "execution_count": null,
      "outputs": []
    },
    {
      "cell_type": "code",
      "source": [
        "df.dtypes"
      ],
      "metadata": {
        "id": "ztaEiRjLHX0U"
      },
      "execution_count": null,
      "outputs": []
    },
    {
      "cell_type": "code",
      "source": [
        "from sklearn.model_selection import train_test_split\n",
        "\n",
        "X_train, X_test, y_train, y_test = train_test_split(df.drop('Churn?', axis=1), df['Churn?'], test_size=0.2, stratify=df['Churn?'], random_state=42)\n",
        "\n",
        "# Stampa la dimensione dei dati di addestramento e dei dati di test\n",
        "print('Dimensione dati di addestramento:', X_train.shape)\n",
        "print('Dimensione dati di test:', X_test.shape)"
      ],
      "metadata": {
        "id": "q6iRpMRpH2f2"
      },
      "execution_count": null,
      "outputs": []
    },
    {
      "cell_type": "markdown",
      "source": [
        "Alleniamo una SVM e calcoliamo le performance"
      ],
      "metadata": {
        "id": "UehTwwSAIYay"
      }
    },
    {
      "cell_type": "code",
      "source": [
        "from sklearn.svm import SVC\n",
        "from sklearn.metrics import accuracy_score, precision_score, recall_score, f1_score\n",
        "import pandas as pd\n",
        "\n",
        "# Addestra la SVM\n",
        "svm = SVC(random_state=42)\n",
        "svm.fit(X_train, y_train)\n",
        "\n",
        "# Valuta il modello utilizzando i dati di test\n",
        "y_pred = svm.predict(X_test)\n",
        "accuracy_train_test = accuracy_score(y_test, y_pred)\n",
        "precision = precision_score(y_test, y_pred)\n",
        "recall = recall_score(y_test, y_pred)\n",
        "f1 = f1_score(y_test, y_pred)\n",
        "\n",
        "# Stampa le prestazioni del modello\n",
        "print('Accuracy:', accuracy_train_test)\n",
        "print('Precision:', precision)\n",
        "print('Recall:', recall)\n",
        "print('F1-score:', f1)"
      ],
      "metadata": {
        "id": "iK241iywIOv8"
      },
      "execution_count": null,
      "outputs": []
    },
    {
      "cell_type": "code",
      "source": [
        "from sklearn.metrics import confusion_matrix\n",
        "\n",
        "confusion_matrix(y_pred, y_test)"
      ],
      "metadata": {
        "id": "4EIVWmXGJ9tT"
      },
      "execution_count": null,
      "outputs": []
    },
    {
      "cell_type": "code",
      "source": [
        "from sklearn.metrics import classification_report\n",
        "\n",
        "print(classification_report(y_pred, y_test))"
      ],
      "metadata": {
        "id": "78mrF0xsKYH5"
      },
      "execution_count": null,
      "outputs": []
    },
    {
      "cell_type": "markdown",
      "source": [
        "Essendo un problema sbilanciato, l'accuratezza è fuorviante. Bisogna analizzare altre metriche, come precision, recall e f1-score."
      ],
      "metadata": {
        "id": "B7Wrh-wbKyU_"
      }
    },
    {
      "cell_type": "markdown",
      "source": [
        "Vediamo ora un altro metodo per valutare le performance di un classificatore: la curva ROC."
      ],
      "metadata": {
        "id": "9Gz4p_S7L4No"
      }
    },
    {
      "cell_type": "code",
      "source": [
        "from sklearn.metrics import roc_curve, roc_auc_score\n",
        "import matplotlib.pyplot as plt\n",
        "\n",
        "# Calcola le probabilità di predizione del modello\n",
        "svm = SVC(kernel='linear', C=1, random_state=42, probability=True)\n",
        "svm.fit(X_train, y_train)\n",
        "y_pred_prob = svm.predict_proba(X_test)[:, 1]\n",
        "\n",
        "# Calcola la curva ROC\n",
        "fpr, tpr, thresholds = roc_curve(y_test, y_pred_prob)\n",
        "\n",
        "# Calcola l'AUC della curva ROC\n",
        "roc_auc = roc_auc_score(y_test, y_pred_prob)\n",
        "\n",
        "# Disegna la curva ROC\n",
        "plt.plot(fpr, tpr, label='ROC curve (area = %0.2f)' % roc_auc)\n",
        "plt.plot([0, 1], [0, 1], 'k--')\n",
        "plt.xlim([0.0, 1.0])\n",
        "plt.ylim([0.0, 1.05])\n",
        "plt.xlabel('False Positive Rate')\n",
        "plt.ylabel('True Positive Rate')\n",
        "plt.title('Receiver operating characteristic')\n",
        "plt.legend(loc=\"lower right\")\n",
        "plt.show()"
      ],
      "metadata": {
        "id": "2pznoxUiKtZn"
      },
      "execution_count": null,
      "outputs": []
    },
    {
      "cell_type": "markdown",
      "source": [
        "La curva ROC può essere usata per comparare diversi modelli di ML per capire quale è migliore. Facciamo il training di un albero decisionale e confrontiamo quest'ultimo con l'SVM precedentemente allenato."
      ],
      "metadata": {
        "id": "dCTr1weJMlMb"
      }
    },
    {
      "cell_type": "code",
      "source": [
        "from sklearn.tree import DecisionTreeClassifier\n",
        "\n",
        "y_svm_pred_prob = y_pred_prob\n",
        "\n",
        "# Addestra l'albero decisionale\n",
        "dt = DecisionTreeClassifier(max_depth=3, random_state=42)\n",
        "dt.fit(X_train, y_train)\n",
        "\n",
        "# Calcola la curva ROC e l'AUC della SVM\n",
        "fpr_svm, tpr_svm, thresholds_svm = roc_curve(y_test, y_svm_pred_prob)\n",
        "auc_svm = roc_auc_score(y_test, y_svm_pred_prob)\n",
        "\n",
        "# Calcola le probabilità di predizione del modello dell'albero decisionale utilizzando predict_proba\n",
        "y_dt_pred_prob = dt.predict_proba(X_test)[:, 1]\n",
        "\n",
        "# Calcola la curva ROC e l'AUC dell'albero decisionale\n",
        "fpr_dt, tpr_dt, thresholds_dt = roc_curve(y_test, y_dt_pred_prob)\n",
        "auc_dt = roc_auc_score(y_test, y_dt_pred_prob)\n",
        "\n",
        "# Plotta la curva ROC dei due modelli per comparare le performance\n",
        "plt.plot(fpr_svm, tpr_svm, label=f'SVM (AUC = {auc_svm:.2f})')\n",
        "plt.plot(fpr_dt, tpr_dt, label=f'Decision Tree (AUC = {auc_dt:.2f})')\n",
        "plt.plot([0, 1], [0, 1], 'k--')\n",
        "plt.xlabel('False Positive Rate')\n",
        "plt.ylabel('True Positive Rate')\n",
        "plt.title('ROC Curve')\n",
        "plt.legend()\n",
        "plt.show()"
      ],
      "metadata": {
        "id": "T0VdMPmfLsJt"
      },
      "execution_count": null,
      "outputs": []
    },
    {
      "cell_type": "markdown",
      "source": [
        "Due o più modelli possono anche essere comparati in termini di tempo impiegato in fase di training."
      ],
      "metadata": {
        "id": "vy5A5BifNt4B"
      }
    },
    {
      "cell_type": "code",
      "source": [
        "from time import time\n",
        "\n",
        "# Addestra la SVM e calcola il tempo di training\n",
        "start_time = time()\n",
        "svm = SVC(kernel='linear', C=1, random_state=42)\n",
        "svm.fit(X_train, y_train)\n",
        "end_time = time()\n",
        "svm_training_time = end_time - start_time\n",
        "\n",
        "# Addestra l'albero decisionale e calcola il tempo di training\n",
        "start_time = time()\n",
        "dt = DecisionTreeClassifier(max_depth=3, random_state=42)\n",
        "dt.fit(X_train, y_train)\n",
        "end_time = time()\n",
        "dt_training_time = end_time - start_time\n",
        "\n",
        "# Stampa il tempo di training dei due modelli\n",
        "print(f'Tempo di training SVM: {svm_training_time:.2f} secondi')\n",
        "print(f'Tempo di training Decision Tree: {dt_training_time:.2f} secondi')"
      ],
      "metadata": {
        "colab": {
          "base_uri": "https://localhost:8080/"
        },
        "id": "UF3zZduwNKgd",
        "outputId": "99b7925e-9bf3-47db-cfed-6f612b776fee"
      },
      "execution_count": 127,
      "outputs": [
        {
          "output_type": "stream",
          "name": "stdout",
          "text": [
            "Tempo di training SVM: 68.79 secondi\n",
            "Tempo di training Decision Tree: 0.02 secondi\n"
          ]
        }
      ]
    },
    {
      "cell_type": "markdown",
      "source": [
        "# 10-fold Cross-Validation"
      ],
      "metadata": {
        "id": "GgWw9MPQEtO7"
      }
    },
    {
      "cell_type": "code",
      "source": [
        "from sklearn.model_selection import KFold,StratifiedKFold"
      ],
      "metadata": {
        "id": "wzgiH-Q7DeQi"
      },
      "execution_count": 128,
      "outputs": []
    },
    {
      "cell_type": "code",
      "source": [
        "n_fold = 10\n",
        "folds = KFold(n_splits=n_fold, shuffle=True)"
      ],
      "metadata": {
        "id": "P--cMB66DjjB"
      },
      "execution_count": 129,
      "outputs": []
    },
    {
      "cell_type": "code",
      "source": [
        "y=df['Churn?']\n",
        "df = df.drop('Churn?', axis=1)"
      ],
      "metadata": {
        "id": "qXmhYA7YGQek"
      },
      "execution_count": 130,
      "outputs": []
    },
    {
      "cell_type": "code",
      "source": [
        "test_pred_proba = np.zeros((df.shape[0], 2))\n",
        "accuracy_k_fold = []\n",
        "\n",
        "for n_fold, (train_idx, valid_idx) in enumerate(folds.split(df, y)):\n",
        "        X_train, X_valid = df.iloc[train_idx], df.iloc[valid_idx]\n",
        "        y_train, y_valid = y[train_idx], y[valid_idx]\n",
        "\n",
        "        model = DecisionTreeClassifier(max_depth=3, random_state=42)\n",
        "        model.fit(X_train, y_train)\n",
        "\n",
        "        y_pred_valid = model.predict(X_valid)\n",
        "        accuracy_k_fold.append(accuracy_score(y_valid,y_pred_valid))"
      ],
      "metadata": {
        "id": "PeNQ26CFDl2Y"
      },
      "execution_count": 131,
      "outputs": []
    },
    {
      "cell_type": "code",
      "source": [
        "accuracy_k_fold"
      ],
      "metadata": {
        "id": "V-UOxcwyEf5y"
      },
      "execution_count": null,
      "outputs": []
    },
    {
      "cell_type": "code",
      "source": [
        "st.t.interval(confidence=0.90, df=len(accuracy_k_fold)-1, loc=np.mean(accuracy_k_fold), scale=st.sem(accuracy_k_fold))"
      ],
      "metadata": {
        "id": "Q_vJeHeAraOB"
      },
      "execution_count": null,
      "outputs": []
    },
    {
      "cell_type": "markdown",
      "source": [
        "# Stratified Cross-validation"
      ],
      "metadata": {
        "id": "6C7IOyxAEzgA"
      }
    },
    {
      "cell_type": "code",
      "source": [
        "n_fold = 10\n",
        "folds = StratifiedKFold(n_splits=n_fold, shuffle=True)"
      ],
      "metadata": {
        "id": "ajKPaPwkEneP"
      },
      "execution_count": 134,
      "outputs": []
    },
    {
      "cell_type": "code",
      "source": [
        "accuracy_stratified = []\n",
        "\n",
        "for n_fold, (train_idx, valid_idx) in enumerate(folds.split(df, y)):\n",
        "        X_train, X_valid = df.iloc[train_idx], df.iloc[valid_idx]\n",
        "        y_train, y_valid = y[train_idx], y[valid_idx]\n",
        "\n",
        "        model = DecisionTreeClassifier(max_depth=3, random_state=42)\n",
        "        model.fit(X_train, y_train)\n",
        "\n",
        "        y_pred_valid = model.predict(X_valid)\n",
        "        accuracy_stratified.append(accuracy_score(y_valid,y_pred_valid))"
      ],
      "metadata": {
        "id": "xc1Rh_wUFIqL"
      },
      "execution_count": 135,
      "outputs": []
    },
    {
      "cell_type": "code",
      "source": [
        "accuracy_stratified"
      ],
      "metadata": {
        "id": "fNK5g-8JFbLo"
      },
      "execution_count": null,
      "outputs": []
    },
    {
      "cell_type": "code",
      "source": [
        "st.t.interval(confidence=0.90, df=len(accuracy_stratified)-1, loc=np.mean(accuracy_stratified), scale=st.sem(accuracy_stratified))"
      ],
      "metadata": {
        "id": "-X7lOBR5rVug"
      },
      "execution_count": null,
      "outputs": []
    },
    {
      "cell_type": "markdown",
      "source": [
        "# Leave-One-Out"
      ],
      "metadata": {
        "id": "rjB1WHS2G7Ag"
      }
    },
    {
      "cell_type": "code",
      "source": [
        "from sklearn.model_selection import LeaveOneOut\n",
        "from sklearn.model_selection import cross_val_score"
      ],
      "metadata": {
        "id": "lD-aOFS2G6XT"
      },
      "execution_count": 138,
      "outputs": []
    },
    {
      "cell_type": "code",
      "source": [
        "loocv = LeaveOneOut()\n",
        "model = DecisionTreeClassifier(max_depth=3, random_state=42)\n",
        "results = cross_val_score(model, df, y, cv=loocv)"
      ],
      "metadata": {
        "id": "1q4B3pb2aI6S"
      },
      "execution_count": 139,
      "outputs": []
    },
    {
      "cell_type": "code",
      "source": [
        "results"
      ],
      "metadata": {
        "id": "AQmYWHjgaLU9"
      },
      "execution_count": null,
      "outputs": []
    },
    {
      "cell_type": "code",
      "source": [
        "results.mean()"
      ],
      "metadata": {
        "id": "jRArhUDGaO2h"
      },
      "execution_count": null,
      "outputs": []
    },
    {
      "cell_type": "markdown",
      "source": [
        "# Repeated cv"
      ],
      "metadata": {
        "id": "sur-0nG9gs4v"
      }
    },
    {
      "cell_type": "code",
      "source": [
        "from sklearn.model_selection import RepeatedKFold"
      ],
      "metadata": {
        "id": "iZ0WYVCGgsH0"
      },
      "execution_count": 142,
      "outputs": []
    },
    {
      "cell_type": "code",
      "source": [
        "rkf = RepeatedKFold(n_splits=10, n_repeats=5, random_state=42)\n",
        "rkf.get_n_splits(df, y)"
      ],
      "metadata": {
        "id": "p5m5q64lnnVj"
      },
      "execution_count": null,
      "outputs": []
    },
    {
      "cell_type": "code",
      "source": [
        "accuracy_repeated_cv = []\n",
        "for n_fold, (train_idx, valid_idx) in enumerate(rkf.split(df, y)):\n",
        "        X_train, X_valid = df.iloc[train_idx], df.iloc[valid_idx]\n",
        "        y_train, y_valid = y[train_idx], y[valid_idx]\n",
        "\n",
        "        model = DecisionTreeClassifier(max_depth=3, random_state=42)\n",
        "        model.fit(X_train, y_train)\n",
        "\n",
        "        y_pred_valid = model.predict(X_valid)\n",
        "        accuracy_repeated_cv.append(accuracy_score(y_valid,y_pred_valid))"
      ],
      "metadata": {
        "id": "2ugjnTCHgyGR"
      },
      "execution_count": 144,
      "outputs": []
    },
    {
      "cell_type": "code",
      "source": [
        "accuracy_repeated_cv"
      ],
      "metadata": {
        "id": "WaYt_kWGn0xU"
      },
      "execution_count": null,
      "outputs": []
    },
    {
      "cell_type": "code",
      "source": [
        "# create 95% confidence interval\n",
        "st.t.interval(confidence=0.90, df=len(accuracy_repeated_cv)-1, loc=np.mean(accuracy_repeated_cv), scale=st.sem(accuracy_repeated_cv))"
      ],
      "metadata": {
        "colab": {
          "base_uri": "https://localhost:8080/"
        },
        "id": "xleYtnAXoWR6",
        "outputId": "adfa3cb6-7ecb-4902-b8ed-93d7547d2989"
      },
      "execution_count": 146,
      "outputs": [
        {
          "output_type": "execute_result",
          "data": {
            "text/plain": [
              "(0.8984173351526518, 0.9061932634699231)"
            ]
          },
          "metadata": {},
          "execution_count": 146
        }
      ]
    },
    {
      "cell_type": "code",
      "source": [
        "import numpy as np\n",
        "import matplotlib.pyplot as plt\n",
        "from scipy import stats\n",
        "\n",
        "# Calculate mean and confidence interval on repeated k-fold\n",
        "mean_value = np.mean(accuracy_repeated_cv)\n",
        "confidence_interval = stats.t.interval(0.95, len(accuracy_repeated_cv)-1, loc=np.mean(accuracy_repeated_cv), scale=stats.sem(accuracy_repeated_cv))\n",
        "\n",
        "# Plot the mean and confidence interval\n",
        "plt.errorbar(0, mean_value, yerr=(confidence_interval[1] - confidence_interval[0])/2, fmt='o', label='Repeated CV')\n",
        "\n",
        "# Calculate mean and confidence interval on k-fold\n",
        "mean_value = np.mean(accuracy_k_fold)\n",
        "confidence_interval = stats.t.interval(0.95, len(accuracy_k_fold)-1, loc=np.mean(accuracy_k_fold), scale=stats.sem(accuracy_k_fold))\n",
        "\n",
        "# Plot the mean and confidence interval\n",
        "plt.errorbar(1, mean_value, yerr=(confidence_interval[1] - confidence_interval[0])/2, fmt='o', label='K-Fold')\n",
        "\n",
        "\n",
        "# Add labels and title\n",
        "plt.xlabel('Group')\n",
        "plt.ylabel('Value')\n",
        "plt.title('Mean with Confidence Interval')\n",
        "\n",
        "# Show the plot\n",
        "plt.legend()\n",
        "plt.show()\n"
      ],
      "metadata": {
        "id": "zbm2Zh3Nu9Yz"
      },
      "execution_count": null,
      "outputs": []
    },
    {
      "cell_type": "markdown",
      "source": [
        "# Assignment\n",
        "Indurre un modello Naive Bayes e confrontarlo con i modelli Decision Tree e SVM in termini di:\n",
        "- capacità capacità predittive (accuratezza, f-measure, roc, auc)\n",
        "- tempi di training\n",
        "- intervalli di confidenza su una misura adeguata"
      ],
      "metadata": {
        "id": "1_8z4dcS2m2R"
      }
    }
  ]
}